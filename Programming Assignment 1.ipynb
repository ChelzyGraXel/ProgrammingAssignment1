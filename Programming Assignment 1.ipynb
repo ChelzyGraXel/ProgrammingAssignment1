{
 "cells": [
  {
   "cell_type": "markdown",
   "id": "4691fb9f-213c-406a-9a07-0b16ab11429e",
   "metadata": {},
   "source": [
    "## Alphabet Soup Problem"
   ]
  },
  {
   "cell_type": "markdown",
   "id": "b318295c-b4c4-4c71-93cc-89ad7ce29f1d",
   "metadata": {},
   "source": [
    "#### Create a function that takes a string and returns a string with its letters in alphabetical order."
   ]
  },
  {
   "cell_type": "code",
   "execution_count": 43,
   "id": "27d2d0af-049b-4af6-8474-54f1bd77974d",
   "metadata": {},
   "outputs": [
    {
     "data": {
      "text/plain": [
       "'accinoppu'"
      ]
     },
     "execution_count": 43,
     "metadata": {},
     "output_type": "execute_result"
    }
   ],
   "source": [
    "def alphabetsort(s):\n",
    "\n",
    "    # Sort the letters of the word alphabetically.\n",
    "    sortstring = ''.join(sorted(s.lower()))\n",
    "    return sortstring\n",
    "\n",
    "alphabetsort (\"Cappucino\")"
   ]
  },
  {
   "cell_type": "markdown",
   "id": "fcc49b4e-5e68-4a27-98da-85b5175775b3",
   "metadata": {},
   "source": [
    "## Emoticon Problem"
   ]
  },
  {
   "cell_type": "markdown",
   "id": "9050539b-2062-443b-a266-657786f5c136",
   "metadata": {},
   "source": [
    "#### Create a function that changes specific words into emoticons. Given a sentence as a string, replace the words smile, grin, sad and mad with their corresponding emoticon:"
   ]
  },
  {
   "cell_type": "code",
   "execution_count": 134,
   "id": "d4fd1b63-5de1-432e-875a-7d6888f5c59f",
   "metadata": {},
   "outputs": [
    {
     "data": {
      "text/plain": [
       "'I am >:( and :( at this code'"
      ]
     },
     "execution_count": 134,
     "metadata": {},
     "output_type": "execute_result"
    }
   ],
   "source": [
    "def emotify(statement):\n",
    "    # Dictionary of Words to Emoticons\n",
    "    emojis = {\n",
    "        'smile': ':)',\n",
    "        'grin': ':D',\n",
    "        'sad': ':(',\n",
    "        'mad': '>:('\n",
    "    }\n",
    "\n",
    "    # Split the sentence into words\n",
    "    words = statement.split()\n",
    "\n",
    "    # Replace words with emoticons.\n",
    "    replacement = [emojis.get(keys, keys) for keys in words]\n",
    "\n",
    "    # Join the words back into a sentence.\n",
    "    update = ' '.join(replacement)\n",
    "    return update\n",
    "\n",
    "# Call back the function\n",
    "emotify(\"I am mad and sad at this code\")"
   ]
  },
  {
   "cell_type": "markdown",
   "id": "ecfe8f28-0e99-4895-91c4-76134c826205",
   "metadata": {},
   "source": [
    "## Unpacking List Problem"
   ]
  },
  {
   "cell_type": "markdown",
   "id": "cd9e8bae-2de1-4950-a8ae-3fd4b65388db",
   "metadata": {},
   "source": [
    "#### Unpack the list writeyourcodehere into three variables, being first, middle, and last, with middle being everything in between the first and last element. Then print all three variables.\r"
   ]
  },
  {
   "cell_type": "code",
   "execution_count": 132,
   "id": "89e1997f-85dd-418e-b349-014c05179b8a",
   "metadata": {},
   "outputs": [
    {
     "name": "stdout",
     "output_type": "stream",
     "text": [
      "First: tiramisu  Middle: ['macaroon', 'muffin', 'cookie', 'brownies']  Last: cupcake\n"
     ]
    }
   ],
   "source": [
    "desserts = [\"tiramisu\", \"macaroon\", \"muffin\", \"cookie\", \"brownies\", \"cupcake\"]\n",
    "\n",
    "def unpack(theList):\n",
    "    first = theList[0]\n",
    "    last = theList[-1]\n",
    "    \n",
    "    theList.pop(0)\n",
    "    theList.pop(-1)\n",
    "    middle = theList\n",
    "    print(\"First:\", first,   \" Middle:\" , middle,   \" Last:\", last)\n",
    "\n",
    "unpack(desserts)"
   ]
  }
 ],
 "metadata": {
  "kernelspec": {
   "display_name": "Python 3 (ipykernel)",
   "language": "python",
   "name": "python3"
  },
  "language_info": {
   "codemirror_mode": {
    "name": "ipython",
    "version": 3
   },
   "file_extension": ".py",
   "mimetype": "text/x-python",
   "name": "python",
   "nbconvert_exporter": "python",
   "pygments_lexer": "ipython3",
   "version": "3.12.4"
  }
 },
 "nbformat": 4,
 "nbformat_minor": 5
}
